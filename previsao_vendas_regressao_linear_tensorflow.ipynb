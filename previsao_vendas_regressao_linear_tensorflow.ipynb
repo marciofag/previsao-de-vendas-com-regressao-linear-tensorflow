{
  "nbformat": 4,
  "nbformat_minor": 0,
  "metadata": {
    "colab": {
      "provenance": [],
      "authorship_tag": "ABX9TyNhWCbTW32DkLhjhXm3G6lc",
      "include_colab_link": true
    },
    "kernelspec": {
      "name": "python3",
      "display_name": "Python 3"
    },
    "language_info": {
      "name": "python"
    }
  },
  "cells": [
    {
      "cell_type": "markdown",
      "metadata": {
        "id": "view-in-github",
        "colab_type": "text"
      },
      "source": [
        "<a href=\"https://colab.research.google.com/github/marciofag/py-previsao-vendas-regressao-linear-tensorflow/blob/main/previsao_vendas_regressao_linear_tensorflow.ipynb\" target=\"_parent\"><img src=\"https://colab.research.google.com/assets/colab-badge.svg\" alt=\"Open In Colab\"/></a>"
      ]
    },
    {
      "cell_type": "markdown",
      "source": [
        "# **Previsão de Vendas com Regressão Linear**"
      ],
      "metadata": {
        "id": "7mUmHk-hogs-"
      }
    },
    {
      "cell_type": "markdown",
      "source": [
        "## Teste de Modelo Supervisionado"
      ],
      "metadata": {
        "id": "7GvtnMpTKHpy"
      }
    },
    {
      "cell_type": "code",
      "execution_count": null,
      "metadata": {
        "id": "bEHD73pdJv19"
      },
      "outputs": [],
      "source": [
        "import tensorflow as tf\n",
        "from tensorflow.keras.models import Sequential\n",
        "from tensorflow.keras.layers import Dense\n",
        "import matplotlib.pyplot as plt"
      ]
    },
    {
      "cell_type": "code",
      "source": [
        "# Dados de exemplo\n",
        "X_train = tf.constant([[1.0], [2.0], [3.0], [4.0]])\n",
        "y_train = tf.constant([[2.0], [4.0], [6.0], [8.0]])\n",
        "\n",
        "# Modelo de Regressão Linear Simples\n",
        "model = Sequential()\n",
        "model.add(Dense(units=1, input_shape=(1,)))\n",
        "model.compile(optimizer='sgd', loss='mean_squared_error')\n",
        "\n",
        "# Treinamento do modelo\n",
        "model.fit(X_train, y_train, epochs=1000, verbose=0)\n",
        "\n",
        "# Previsão\n",
        "X_new = tf.constant([[5.0]])\n",
        "prediction = model.predict(X_new)\n",
        "print(\"Predição:\", prediction[0][0])\n",
        "plt.ylabel('Notas')\n",
        "plt.show()"
      ],
      "metadata": {
        "colab": {
          "base_uri": "https://localhost:8080/",
          "height": 524
        },
        "id": "uOm3uBzFKdhy",
        "outputId": "e7ed4394-5580-47db-b728-b78843f16568"
      },
      "execution_count": null,
      "outputs": [
        {
          "output_type": "stream",
          "name": "stderr",
          "text": [
            "/usr/local/lib/python3.11/dist-packages/keras/src/layers/core/dense.py:87: UserWarning: Do not pass an `input_shape`/`input_dim` argument to a layer. When using Sequential models, prefer using an `Input(shape)` object as the first layer in the model instead.\n",
            "  super().__init__(activity_regularizer=activity_regularizer, **kwargs)\n"
          ]
        },
        {
          "output_type": "stream",
          "name": "stdout",
          "text": [
            "\u001b[1m1/1\u001b[0m \u001b[32m━━━━━━━━━━━━━━━━━━━━\u001b[0m\u001b[37m\u001b[0m \u001b[1m0s\u001b[0m 55ms/step\n",
            "Predição: 9.969847\n"
          ]
        },
        {
          "output_type": "display_data",
          "data": {
            "text/plain": [
              "<Figure size 640x480 with 1 Axes>"
            ],
            "image/png": "[encoded data removed]"
          },
          "metadata": {}
        }
      ]
    },
    {
      "cell_type": "markdown",
      "source": [
        "## Teste de Modelo Não Supervisionado"
      ],
      "metadata": {
        "id": "m90CJu_qNdtM"
      }
    },
    {
      "cell_type": "code",
      "source": [
        "import tensorflow as tf\n",
        "from tensorflow.keras.layers import Input, Dense\n",
        "from tensorflow.keras.models import Model"
      ],
      "metadata": {
        "id": "WSUQ4MNKNhIZ"
      },
      "execution_count": null,
      "outputs": []
    },
    {
      "cell_type": "code",
      "source": [
        "# Dados de exemplo\n",
        "X_unsupervised = tf.constant([[1.0, 2.0], [2.0, 3.0], [3.0, 4.0], [4.0, 5.0]])\n",
        "\n",
        "# Modelo Autoencoder Simples\n",
        "input_layer = Input(shape=(2,))\n",
        "encoded = Dense(units=1)(input_layer)\n",
        "decoded = Dense(units=2)(encoded)\n",
        "\n",
        "autoencoder = Model(inputs=input_layer, outputs=decoded)\n",
        "autoencoder.compile(optimizer='adam', loss='mean_squared_error')\n",
        "\n",
        "# Treinamento do modelo não supervisionado\n",
        "autoencoder.fit(X_unsupervised, X_unsupervised, epochs=1000, verbose=0)\n",
        "\n",
        "# Previsão\n",
        "prediction_unsupervised = autoencoder.predict(X_unsupervised)\n",
        "print(\"Predição não supervisionada:\", prediction_unsupervised)"
      ],
      "metadata": {
        "colab": {
          "base_uri": "https://localhost:8080/"
        },
        "id": "lCkA875gOMsS",
        "outputId": "4ec36f03-abc0-4758-a607-c6d607820ff0"
      },
      "execution_count": null,
      "outputs": [
        {
          "output_type": "stream",
          "name": "stdout",
          "text": [
            "\u001b[1m1/1\u001b[0m \u001b[32m━━━━━━━━━━━━━━━━━━━━\u001b[0m\u001b[37m\u001b[0m \u001b[1m0s\u001b[0m 63ms/step\n",
            "Predição não supervisionada: [[1.7975016 2.0691273]\n",
            " [2.4655898 2.6414597]\n",
            " [3.133678  3.2137926]\n",
            " [3.801766  3.7861247]]\n"
          ]
        }
      ]
    },
    {
      "cell_type": "markdown",
      "source": [
        "## Modelo de Previsão"
      ],
      "metadata": {
        "id": "piRzaJ3xZo0b"
      }
    },
    {
      "cell_type": "code",
      "source": [
        "import numpy as np\n",
        "import pandas as pd\n",
        "import matplotlib.pyplot as plt\n",
        "from sklearn.model_selection import train_test_split\n",
        "from sklearn.preprocessing import MinMaxScaler\n",
        "import tensorflow as tf"
      ],
      "metadata": {
        "id": "Ca93OWO5ZqU6"
      },
      "execution_count": 7,
      "outputs": []
    },
    {
      "cell_type": "code",
      "source": [
        "# Dados de vendas ao longo do tempo\n",
        "np.random.seed(42)\n",
        "meses = np.arange(1, 13)\n",
        "vendas = np.array([200, 220, 250, 280, 300, 320, 350, 380, 400, 420, 450, 480])"
      ],
      "metadata": {
        "id": "5JnqnfjLZvMa"
      },
      "execution_count": 8,
      "outputs": []
    },
    {
      "cell_type": "code",
      "source": [
        "# DataFrame\n",
        "dados = pd.DataFrame({'Mes': meses, 'Vendas': vendas})"
      ],
      "metadata": {
        "id": "8S4Hqn7iZ44C"
      },
      "execution_count": 9,
      "outputs": []
    },
    {
      "cell_type": "code",
      "source": [
        "# Visualização dos dados\n",
        "plt.scatter(dados['Mes'], dados['Vendas'])\n",
        "plt.xlabel('Mês')\n",
        "plt.ylabel('Vendas')\n",
        "plt.title('Dados de Vendas ao Longo do Tempo')\n",
        "plt.show()"
      ],
      "metadata": {
        "colab": {
          "base_uri": "https://localhost:8080/",
          "height": 472
        },
        "id": "V-846mUMZ9ka",
        "outputId": "239e6198-f9d7-4f92-cbf2-d5486b8a032c"
      },
      "execution_count": 10,
      "outputs": [
        {
          "output_type": "display_data",
          "data": {
            "text/plain": [
              "<Figure size 640x480 with 1 Axes>"
            ],
            "image/png": "[encoded data removed]"
          },
          "metadata": {}
        }
      ]
    },
    {
      "cell_type": "code",
      "source": [
        "# Normalização dos dados de treinamento\n",
        "# Dividir os dados em conjuntos de treinamento e teste\n",
        "X = dados[['Mes']]\n",
        "y = dados['Vendas']\n",
        "X_train, X_test, y_train, y_test = train_test_split(X, y, test_size=0.2, random_state=42)\n",
        "\n",
        "# Dimensionar os dados\n",
        "scaler = MinMaxScaler()\n",
        "X_train_scaled = scaler.fit_transform(X_train)\n",
        "X_test_scaled = scaler.transform(X_test)"
      ],
      "metadata": {
        "id": "Q1Z7ovJhaF1K"
      },
      "execution_count": 12,
      "outputs": []
    },
    {
      "cell_type": "code",
      "source": [
        "# Criação e treino do modelo de regressão linear\n",
        "model = tf.keras.Sequential([\n",
        "    tf.keras.layers.Input(shape=(1,)),  # Camada de entrada\n",
        "    tf.keras.layers.Dense(units=8, activation='relu'),  # Camada escondida com ativação ReLU\n",
        "    tf.keras.layers.Dense(units=1)  # Camada de saída\n",
        "])\n",
        "\n",
        "model.compile(optimizer='adam', loss='mean_squared_error')"
      ],
      "metadata": {
        "id": "Uk3HCOgecV4r"
      },
      "execution_count": 13,
      "outputs": []
    },
    {
      "cell_type": "code",
      "source": [
        "# Treino do modelo por mais épocas\n",
        "model.fit(X_train, y_train, epochs=500, verbose=0)"
      ],
      "metadata": {
        "colab": {
          "base_uri": "https://localhost:8080/"
        },
        "id": "gr-9bem9cqjC",
        "outputId": "46773ff4-29f9-44f1-ec65-0938f572d8f4"
      },
      "execution_count": 14,
      "outputs": [
        {
          "output_type": "execute_result",
          "data": {
            "text/plain": [
              "<keras.src.callbacks.history.History at 0x794528e2fed0>"
            ]
          },
          "metadata": {},
          "execution_count": 14
        }
      ]
    },
    {
      "cell_type": "code",
      "source": [
        "# Previsões no conjunto de teste\n",
        "predictions = model.predict(X_test)"
      ],
      "metadata": {
        "colab": {
          "base_uri": "https://localhost:8080/"
        },
        "id": "_oHKRqvPc4Bz",
        "outputId": "e629363f-808e-453d-dfa0-d0309c8fc1b9"
      },
      "execution_count": 15,
      "outputs": [
        {
          "output_type": "stream",
          "name": "stdout",
          "text": [
            "\u001b[1m1/1\u001b[0m \u001b[32m━━━━━━━━━━━━━━━━━━━━\u001b[0m\u001b[37m\u001b[0m \u001b[1m0s\u001b[0m 65ms/step\n"
          ]
        }
      ]
    },
    {
      "cell_type": "code",
      "source": [
        "# Desfazer a normalização para avaliar o desempenho\n",
        "min_sales = dados['Vendas'].min()\n",
        "max_sales = dados['Vendas'].max()\n",
        "\n",
        "predictions_inverse = predictions * (max_sales - min_sales) + min_sales\n",
        "y_test_inverse = y_test * (max_sales - min_sales) + min_sales"
      ],
      "metadata": {
        "id": "0ELr07-Ec7fb"
      },
      "execution_count": 17,
      "outputs": []
    },
    {
      "cell_type": "code",
      "source": [
        "# Visualizar as previsões em relação aos dados reais\n",
        "plt.scatter(X_test, y_test_inverse, label='Dados Reais')\n",
        "plt.plot(X_test, predictions_inverse, color='red', label='Previsões')\n",
        "plt.xlabel('Mês')\n",
        "plt.ylabel('Vendas')\n",
        "plt.title('Previsões de Vendas com Regressão Linear (TensorFlow)')\n",
        "plt.legend()\n",
        "plt.show()"
      ],
      "metadata": {
        "colab": {
          "base_uri": "https://localhost:8080/",
          "height": 472
        },
        "id": "EJvUmoPidD57",
        "outputId": "379a15de-bc4b-4a23-861c-c7bf4c745471"
      },
      "execution_count": 18,
      "outputs": [
        {
          "output_type": "display_data",
          "data": {
            "text/plain": [
              "<Figure size 640x480 with 1 Axes>"
            ],
            "image/png": "[encoded data removed]"
          },
          "metadata": {}
        }
      ]
    },
    {
      "cell_type": "code",
      "source": [
        "# Avaliar o desempenho do modelo\n",
        "from sklearn.metrics import mean_squared_error\n",
        "erro_mse = mean_squared_error(y_test_inverse, predictions_inverse)\n",
        "print(f'Erro Médio Quadrático (MSE): {erro_mse:.2f}')"
      ],
      "metadata": {
        "colab": {
          "base_uri": "https://localhost:8080/"
        },
        "id": "D3W6PLnGdKYj",
        "outputId": "ab69e266-d9b4-44aa-cda3-485ea89524a1"
      },
      "execution_count": 20,
      "outputs": [
        {
          "output_type": "stream",
          "name": "stdout",
          "text": [
            "Erro Médio Quadrático (MSE): 9222628352.00\n"
          ]
        }
      ]
    },
    {
      "cell_type": "code",
      "source": [
        "# Previsão para o próximo mês\n",
        "proximo_mes_scaled = scaler.transform(np.array([[13]]))\n",
        "previsao_proximo_mes_scaled = model.predict(proximo_mes_scaled)\n",
        "previsao_proximo_mes = scaler.inverse_transform(previsao_proximo_mes_scaled)[0, 0]\n",
        "print(f'Previsão de Vendas para o Próximo Mês: {previsao_proximo_mes:.2f}')"
      ],
      "metadata": {
        "colab": {
          "base_uri": "https://localhost:8080/"
        },
        "id": "8K-B9euRdlSM",
        "outputId": "cbffd61a-8217-4b3e-8c67-336f2a54b68e"
      },
      "execution_count": 21,
      "outputs": [
        {
          "output_type": "stream",
          "name": "stdout",
          "text": [
            "\u001b[1m1/1\u001b[0m \u001b[32m━━━━━━━━━━━━━━━━━━━━\u001b[0m\u001b[37m\u001b[0m \u001b[1m0s\u001b[0m 78ms/step\n",
            "Previsão de Vendas para o Próximo Mês: 66.63\n"
          ]
        },
        {
          "output_type": "stream",
          "name": "stderr",
          "text": [
            "/usr/local/lib/python3.11/dist-packages/sklearn/utils/validation.py:2739: UserWarning: X does not have valid feature names, but MinMaxScaler was fitted with feature names\n",
            "  warnings.warn(\n"
          ]
        }
      ]
    },
    {
      "cell_type": "markdown",
      "source": [
        "O estudo aplicou a regressão linear para tentar prever vendas futuras a partir de dados históricos. Uma linha reta foi ajustada aos dados de vendas passados para identificar uma tendência.\n",
        "\n",
        "Visualmente, a linha de previsão (vermelha) acompanhou a tendência de crescimento das vendas reais (pontos azuis), mas cometeu erros. Isso foi quantificado por um Erro Médio Quadrático (MSE) alto de 922628352.00, indicando uma grande diferença entre as vendas reais e as previsões do modelo.\n",
        "\n",
        "A previsão para o próximo mês, baseada nessa linha reta, foi de 66.63 unidades. No entanto, devido ao alto erro do modelo no passado, essa previsão exata não é considerada muito confiável.\n",
        "\n",
        "Apesar de identificar uma tendência de alta nas vendas, a regressão linear se mostrou uma ferramenta imprecisa para previsões exatas.\n",
        "\n",
        "Em essência, a regressão linear forneceu uma visão geral da direção das vendas, mas sua falta de precisão exige a consideração de outras abordagens para um planejamento mais seguro."
      ],
      "metadata": {
        "id": "x2j15An4l9dl"
      }
    }
  ]
}